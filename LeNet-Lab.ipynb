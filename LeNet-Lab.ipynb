{
 "cells": [
  {
   "cell_type": "markdown",
   "metadata": {
    "deletable": true,
    "editable": true
   },
   "source": [
    "# LeNet Lab\n",
    "![LeNet Architecture](lenet.png)\n",
    "Source: Yan LeCun"
   ]
  },
  {
   "cell_type": "markdown",
   "metadata": {
    "deletable": true,
    "editable": true
   },
   "source": [
    "## Load Data\n",
    "\n",
    "Load the MNIST data, which comes pre-loaded with TensorFlow.\n",
    "\n",
    "You do not need to modify this section."
   ]
  },
  {
   "cell_type": "code",
   "execution_count": 190,
   "metadata": {
    "collapsed": false,
    "deletable": true,
    "editable": true
   },
   "outputs": [
    {
     "name": "stdout",
     "output_type": "stream",
     "text": [
      "Extracting MNIST_data/train-images-idx3-ubyte.gz\n",
      "Extracting MNIST_data/train-labels-idx1-ubyte.gz\n",
      "Extracting MNIST_data/t10k-images-idx3-ubyte.gz\n",
      "Extracting MNIST_data/t10k-labels-idx1-ubyte.gz\n",
      "\n",
      "Image Shape: (28, 28, 1)\n",
      "\n",
      "Training Set:   55000 samples\n",
      "Validation Set: 5000 samples\n",
      "Test Set:       10000 samples\n"
     ]
    }
   ],
   "source": [
    "from tensorflow.examples.tutorials.mnist import input_data\n",
    "\n",
    "mnist = input_data.read_data_sets(\"MNIST_data/\", reshape=False)\n",
    "X_train, y_train           = mnist.train.images, mnist.train.labels\n",
    "X_validation, y_validation = mnist.validation.images, mnist.validation.labels\n",
    "X_test, y_test             = mnist.test.images, mnist.test.labels\n",
    "\n",
    "assert(len(X_train) == len(y_train))\n",
    "assert(len(X_validation) == len(y_validation))\n",
    "assert(len(X_test) == len(y_test))\n",
    "\n",
    "print()\n",
    "print(\"Image Shape: {}\".format(X_train[0].shape))\n",
    "print()\n",
    "print(\"Training Set:   {} samples\".format(len(X_train)))\n",
    "print(\"Validation Set: {} samples\".format(len(X_validation)))\n",
    "print(\"Test Set:       {} samples\".format(len(X_test)))"
   ]
  },
  {
   "cell_type": "markdown",
   "metadata": {
    "deletable": true,
    "editable": true
   },
   "source": [
    "The MNIST data that TensorFlow pre-loads comes as 28x28x1 images.\n",
    "\n",
    "However, the LeNet architecture only accepts 32x32xC images, where C is the number of color channels.\n",
    "\n",
    "In order to reformat the MNIST data into a shape that LeNet will accept, we pad the data with two rows of zeros on the top and bottom, and two columns of zeros on the left and right (28+2+2 = 32).\n",
    "\n",
    "You do not need to modify this section."
   ]
  },
  {
   "cell_type": "code",
   "execution_count": 191,
   "metadata": {
    "collapsed": false,
    "deletable": true,
    "editable": true
   },
   "outputs": [
    {
     "name": "stdout",
     "output_type": "stream",
     "text": [
      "Updated Image Shape: (32, 32, 1)\n"
     ]
    }
   ],
   "source": [
    "import numpy as np\n",
    "\n",
    "# Pad images with 0s\n",
    "X_train      = np.pad(X_train, ((0,0),(2,2),(2,2),(0,0)), 'constant')\n",
    "X_validation = np.pad(X_validation, ((0,0),(2,2),(2,2),(0,0)), 'constant')\n",
    "X_test       = np.pad(X_test, ((0,0),(2,2),(2,2),(0,0)), 'constant')\n",
    "    \n",
    "print(\"Updated Image Shape: {}\".format(X_train[0].shape))"
   ]
  },
  {
   "cell_type": "markdown",
   "metadata": {
    "deletable": true,
    "editable": true
   },
   "source": [
    "## Visualize Data\n",
    "\n",
    "View a sample from the dataset.\n",
    "\n",
    "You do not need to modify this section."
   ]
  },
  {
   "cell_type": "code",
   "execution_count": 192,
   "metadata": {
    "collapsed": false,
    "deletable": true,
    "editable": true
   },
   "outputs": [
    {
     "name": "stdout",
     "output_type": "stream",
     "text": [
      "0\n"
     ]
    },
    {
     "data": {
      "image/png": "[encoded data removed]",
      "text/plain": [
       "<matplotlib.figure.Figure at 0x12458b208>"
      ]
     },
     "metadata": {},
     "output_type": "display_data"
    }
   ],
   "source": [
    "import random\n",
    "import numpy as np\n",
    "import matplotlib.pyplot as plt\n",
    "%matplotlib inline\n",
    "\n",
    "index = random.randint(0, len(X_train))\n",
    "image = X_train[index].squeeze()\n",
    "\n",
    "plt.figure(figsize=(1,1))\n",
    "plt.imshow(image, cmap=\"gray\")\n",
    "print(y_train[index])"
   ]
  },
  {
   "cell_type": "markdown",
   "metadata": {
    "deletable": true,
    "editable": true
   },
   "source": [
    "## Preprocess Data\n",
    "\n",
    "Shuffle the training data.\n",
    "\n",
    "You do not need to modify this section."
   ]
  },
  {
   "cell_type": "code",
   "execution_count": 193,
   "metadata": {
    "collapsed": false,
    "deletable": true,
    "editable": true
   },
   "outputs": [],
   "source": [
    "from sklearn.utils import shuffle\n",
    "\n",
    "X_train, y_train = shuffle(X_train, y_train)"
   ]
  },
  {
   "cell_type": "markdown",
   "metadata": {
    "deletable": true,
    "editable": true
   },
   "source": [
    "## Setup TensorFlow\n",
    "The `EPOCH` and `BATCH_SIZE` values affect the training speed and model accuracy.\n",
    "\n",
    "You do not need to modify this section."
   ]
  },
  {
   "cell_type": "code",
   "execution_count": 194,
   "metadata": {
    "collapsed": true,
    "deletable": true,
    "editable": true
   },
   "outputs": [],
   "source": [
    "import tensorflow as tf\n",
    "\n",
    "EPOCHS = 10\n",
    "BATCH_SIZE = 128"
   ]
  },
  {
   "cell_type": "markdown",
   "metadata": {
    "deletable": true,
    "editable": true
   },
   "source": [
    "## TODO: Implement LeNet-5\n",
    "Implement the [LeNet-5](http://yann.lecun.com/exdb/lenet/) neural network architecture.\n",
    "\n",
    "This is the only cell you need to edit.\n",
    "### Input\n",
    "The LeNet architecture accepts a 32x32xC image as input, where C is the number of color channels. Since MNIST images are grayscale, C is 1 in this case.\n",
    "\n",
    "### Architecture\n",
    "**Layer 1: Convolutional.** The output shape should be 28x28x6.\n",
    "\n",
    "**Activation.** Your choice of activation function.\n",
    "\n",
    "**Pooling.** The output shape should be 14x14x6.\n",
    "\n",
    "**Layer 2: Convolutional.** The output shape should be 10x10x16.\n",
    "\n",
    "**Activation.** Your choice of activation function.\n",
    "\n",
    "**Pooling.** The output shape should be 5x5x16.\n",
    "\n",
    "**Flatten.** Flatten the output shape of the final pooling layer such that it's 1D instead of 3D. The easiest way to do is by using `tf.contrib.layers.flatten`, which is already imported for you.\n",
    "\n",
    "**Layer 3: Fully Connected.** This should have 120 outputs.\n",
    "\n",
    "**Activation.** Your choice of activation function.\n",
    "\n",
    "**Layer 4: Fully Connected.** This should have 84 outputs.\n",
    "\n",
    "**Activation.** Your choice of activation function.\n",
    "\n",
    "**Layer 5: Fully Connected (Logits).** This should have 10 outputs.\n",
    "\n",
    "### Output\n",
    "Return the result of the 2nd fully connected layer."
   ]
  },
  {
   "cell_type": "code",
   "execution_count": 195,
   "metadata": {
    "collapsed": false,
    "deletable": true,
    "editable": true
   },
   "outputs": [],
   "source": [
    "from tensorflow.contrib.layers import flatten\n",
    "\n",
    "def LeNet(x):    \n",
    "    # Arguments used for tf.truncated_normal, randomly defines variables for the weights and biases for each layer\n",
    "    mu = 0\n",
    "    sigma = 0.1\n",
    "    \n",
    "    # equation for computing new dimension with filter size\n",
    "    # out_height = ceil(float(in_height - filter_height + 1) / float(strides[1])) for \"Valid\" Padding\n",
    "    strides = [1, 1, 1, 1]\n",
    "    \n",
    "    weights = {\n",
    "    'wc1': tf.Variable(tf.truncated_normal([5, 5, 1, 6])),\n",
    "    'wc2': tf.Variable(tf.truncated_normal([5, 5, 6, 16])),\n",
    "    'wd1': tf.Variable(tf.truncated_normal([5*5*16, 400])),\n",
    "    'out1': tf.Variable(tf.truncated_normal([400, 120])),\n",
    "    'out2': tf.Variable(tf.truncated_normal([120, 84])),\n",
    "    'out3': tf.Variable(tf.truncated_normal([84, 10]))}\n",
    "\n",
    "    biases = {\n",
    "    'bc1': tf.Variable(tf.random_normal([6])),\n",
    "    'bc2': tf.Variable(tf.random_normal([16])),\n",
    "    'bd1': tf.Variable(tf.random_normal([400])),\n",
    "    'out1': tf.Variable(tf.random_normal([120])),\n",
    "    'out2': tf.Variable(tf.random_normal([84])),\n",
    "    'out3': tf.Variable(tf.random_normal([10]))}\n",
    "\n",
    "    \n",
    "    # TODO: Layer 1: Convolutional. Input = 32x32x1. Output = 28x28x6.\n",
    "    # strde = [1,1,1,1]\n",
    "    # 28 = ceil(float(32-f_h+1))/1\n",
    "    # f_h = f_w = 5\n",
    "    F_W = weights['wc1']\n",
    "    F_b = biases['bc1']\n",
    "    strides = [1, 1, 1, 1]\n",
    "    padding = 'VALID'\n",
    "    layer = tf.nn.conv2d(x, F_W, strides, padding) + F_b\n",
    "\n",
    "    print(\"+++++++++++++++++++++Conv+++++++++++++++++++++++\")\n",
    "    print(layer)          \n",
    "    print(\"++++++++++++++++++++++++++++++++++++++++++++\")\n",
    "    # TODO: Activation.\n",
    "\n",
    "    # TODO: Pooling. Input = 28x28x6. Output = 14x14x6.\n",
    "    # stride = [1,2,2,1]\n",
    "    # 14 = ceil((28-f+1)/2)\n",
    "    # f_h = f_w = 1\n",
    "    \n",
    "    # Set the filter for each dimension (batch_size, height, width, depth)\n",
    "    ksize = [1, 1, 1, 1]\n",
    "    # Set the stride for each dimension (batch_size, height, width, depth)\n",
    "    strides = [1, 2, 2, 1]\n",
    "    # set the padding, either 'VALID' or 'SAME'.\n",
    "    padding = \"VALID\"\n",
    "    # https://www.tensorflow.org/versions/r0.11/api_docs/python/nn.html#max_pool\n",
    "    layer = tf.nn.max_pool(layer, ksize, strides, padding)\n",
    "    print(\"++++++++++++++++++++Max pool++++++++++++++++++++++++\")\n",
    "    print(layer)          \n",
    "    print(\"++++++++++++++++++++++++++++++++++++++++++++\")\n",
    "    \n",
    "    # TODO: Layer 2: Convolutional. Input = 14x14x6, Output = 10x10x16.\n",
    "    # strde = [1,1,1,1]\n",
    "    # 10 = ceil(float(14-f_h+1))/1\n",
    "    # f_h = f_w = 5\n",
    "    F_W = weights['wc2']\n",
    "    F_b = biases['bc2']\n",
    "    strides = [1, 1, 1, 1]\n",
    "    padding = 'VALID'\n",
    "    layer = tf.nn.conv2d(layer, F_W, strides, padding) + F_b\n",
    "    print(\"+++++++++++++++++++++Conv+++++++++++++++++++++++\")\n",
    "    print(layer)          \n",
    "    print(\"++++++++++++++++++++++++++++++++++++++++++++\")\n",
    "    \n",
    "    # TODO: Activation.\n",
    "    layer = tf.nn.relu(layer)\n",
    "    print(\"++++++++++++++++++++Relu++++++++++++++++++++++++\")\n",
    "    print(layer)          \n",
    "    print(\"++++++++++++++++++++++++++++++++++++++++++++\")\n",
    "    \n",
    "    # TODO: Pooling. Input = 10x10x16. Output = 5x5x16.\n",
    "    # stride = [1,2,2,1]\n",
    "    # 5 = ceil((10-f+1)/2)\n",
    "    # f_h = f_w = 1\n",
    "    \n",
    "    # Set the filter for each dimension (batch_size, height, width, depth)\n",
    "    ksize = [1, 1, 1, 1]\n",
    "    # Set the stride for each dimension (batch_size, height, width, depth)\n",
    "    strides = [1, 2, 2, 1]\n",
    "    # set the padding, either 'VALID' or 'SAME'.\n",
    "    padding = \"VALID\"\n",
    "    # https://www.tensorflow.org/versions/r0.11/api_docs/python/nn.html#max_pool\n",
    "    layer = tf.nn.max_pool(layer, ksize, strides, padding)\n",
    "    print(\"++++++++++++++++++++Max pool++++++++++++++++++++++++\")\n",
    "    print(layer)          \n",
    "    print(\"++++++++++++++++++++++++++++++++++++++++++++\")\n",
    "    \n",
    "    # TODO: Flatten. Input = 5x5x16. Output = 400.\n",
    "    layer = tf.reshape(layer, [-1, weights['wd1'].get_shape().as_list()[0]])\n",
    "    print(\"++++++++++++++++++++Reshape++++++++++++++++++++++++\")\n",
    "    print(layer)          \n",
    "    print(\"++++++++++++++++++++++++++++++++++++++++++++\")\n",
    "    \n",
    "    # TODO: Layer 3: Fully Connected. Input = 400. Output = 120.\n",
    "    layer = tf.add(tf.matmul(layer, weights['wd1']), biases['bd1']) #output 400\n",
    "    layer = tf.add(tf.matmul(layer, weights['out1']), biases['out1']) #output 120\n",
    "\n",
    "    print(\"++++++++++++++++++++Connect1++++++++++++++++++++++++\")\n",
    "    print(layer)          \n",
    "    print(\"++++++++++++++++++++++++++++++++++++++++++++\")\n",
    "    \n",
    "    # TODO: Activation.\n",
    "    layer = tf.nn.relu(layer)\n",
    "    print(\"++++++++++++++++++++Relu++++++++++++++++++++++++\")\n",
    "    print(layer)          \n",
    "    print(\"++++++++++++++++++++++++++++++++++++++++++++\")\n",
    "    \n",
    "    # TODO: Layer 4: Fully Connected. Input = 120. Output = 84.\n",
    "    layer = tf.add(tf.matmul(layer, weights['out2']), biases['out2'])\n",
    "    print(\"++++++++++++++++++++Connect2++++++++++++++++++++++++\")\n",
    "    print(layer)          \n",
    "    print(\"++++++++++++++++++++++++++++++++++++++++++++\")\n",
    "    \n",
    "    # TODO: Activation.\n",
    "    layer = tf.nn.relu(layer)\n",
    "    print(\"++++++++++++++++++++Relu++++++++++++++++++++++++\")\n",
    "    print(layer)\n",
    "    \n",
    "    print(\"++++++++++++++++++++++++++++++++++++++++++++\")\n",
    "    # TODO: Layer 5: Fully Connected. Input = 84. Output = 10.\n",
    "    layer = tf.add(tf.matmul(layer, weights['out3']), biases['out3'])\n",
    "    print(\"++++++++++++++++++++Connect3++++++++++++++++++++++++\")\n",
    "    print(layer)          \n",
    "    print(\"++++++++++++++++++++++++++++++++++++++++++++\")\n",
    "    \"\"\"\"\n",
    "    # ??? Relu and Dropout\n",
    "    layer = tf.nn.relu(layer)\n",
    "    print(\"++++++++++++++++++++Relu++++++++++++++++++++++++\")\n",
    "    print(layer)          \n",
    "    print(\"++++++++++++++++++++++++++++++++++++++++++++\")\n",
    "    \n",
    "    layer = tf.nn.dropout(layer, 0.75)\n",
    "    print(\"++++++++++++++++++++Dropout++++++++++++++++++++++++\")\n",
    "    print(layer)          \n",
    "    print(\"++++++++++++++++++++++++++++++++++++++++++++\")\n",
    "    \"\"\"\n",
    "    logits = layer\n",
    "    \n",
    "    return logits"
   ]
  },
  {
   "cell_type": "markdown",
   "metadata": {
    "deletable": true,
    "editable": true
   },
   "source": [
    "## Features and Labels\n",
    "Train LeNet to classify [MNIST](http://yann.lecun.com/exdb/mnist/) data.\n",
    "\n",
    "`x` is a placeholder for a batch of input images.\n",
    "`y` is a placeholder for a batch of output labels.\n",
    "\n",
    "You do not need to modify this section."
   ]
  },
  {
   "cell_type": "code",
   "execution_count": 196,
   "metadata": {
    "collapsed": false,
    "deletable": true,
    "editable": true
   },
   "outputs": [],
   "source": [
    "x = tf.placeholder(tf.float32, (None, 32, 32, 1))\n",
    "y = tf.placeholder(tf.int32, (None))\n",
    "one_hot_y = tf.one_hot(y, 10)"
   ]
  },
  {
   "cell_type": "markdown",
   "metadata": {
    "deletable": true,
    "editable": true
   },
   "source": [
    "## Training Pipeline\n",
    "Create a training pipeline that uses the model to classify MNIST data.\n",
    "\n",
    "You do not need to modify this section."
   ]
  },
  {
   "cell_type": "code",
   "execution_count": 197,
   "metadata": {
    "collapsed": false,
    "deletable": true,
    "editable": true
   },
   "outputs": [
    {
     "name": "stdout",
     "output_type": "stream",
     "text": [
      "+++++++++++++++++++++Conv+++++++++++++++++++++++\n",
      "Tensor(\"add_25:0\", shape=(?, 28, 28, 6), dtype=float32)\n",
      "++++++++++++++++++++++++++++++++++++++++++++\n",
      "++++++++++++++++++++Max pool++++++++++++++++++++++++\n",
      "Tensor(\"MaxPool_18:0\", shape=(?, 14, 14, 6), dtype=float32)\n",
      "++++++++++++++++++++++++++++++++++++++++++++\n",
      "+++++++++++++++++++++Conv+++++++++++++++++++++++\n",
      "Tensor(\"add_26:0\", shape=(?, 10, 10, 16), dtype=float32)\n",
      "++++++++++++++++++++++++++++++++++++++++++++\n",
      "++++++++++++++++++++Relu++++++++++++++++++++++++\n",
      "Tensor(\"Relu_3:0\", shape=(?, 10, 10, 16), dtype=float32)\n",
      "++++++++++++++++++++++++++++++++++++++++++++\n",
      "++++++++++++++++++++Max pool++++++++++++++++++++++++\n",
      "Tensor(\"MaxPool_19:0\", shape=(?, 5, 5, 16), dtype=float32)\n",
      "++++++++++++++++++++++++++++++++++++++++++++\n",
      "++++++++++++++++++++Reshape++++++++++++++++++++++++\n",
      "Tensor(\"Reshape_42:0\", shape=(?, 400), dtype=float32)\n",
      "++++++++++++++++++++++++++++++++++++++++++++\n",
      "++++++++++++++++++++Connect1++++++++++++++++++++++++\n",
      "Tensor(\"Add_15:0\", shape=(?, 120), dtype=float32)\n",
      "++++++++++++++++++++++++++++++++++++++++++++\n",
      "++++++++++++++++++++Relu++++++++++++++++++++++++\n",
      "Tensor(\"Relu_4:0\", shape=(?, 120), dtype=float32)\n",
      "++++++++++++++++++++++++++++++++++++++++++++\n",
      "++++++++++++++++++++Connect2++++++++++++++++++++++++\n",
      "Tensor(\"Add_16:0\", shape=(?, 84), dtype=float32)\n",
      "++++++++++++++++++++++++++++++++++++++++++++\n",
      "++++++++++++++++++++Relu++++++++++++++++++++++++\n",
      "Tensor(\"Relu_5:0\", shape=(?, 84), dtype=float32)\n",
      "++++++++++++++++++++++++++++++++++++++++++++\n",
      "++++++++++++++++++++Connect3++++++++++++++++++++++++\n",
      "Tensor(\"Add_17:0\", shape=(?, 10), dtype=float32)\n",
      "++++++++++++++++++++++++++++++++++++++++++++\n"
     ]
    }
   ],
   "source": [
    "rate = 0.001\n",
    "\n",
    "logits = LeNet(x)\n",
    "cross_entropy = tf.nn.softmax_cross_entropy_with_logits(logits, one_hot_y)\n",
    "loss_operation = tf.reduce_mean(cross_entropy)\n",
    "optimizer = tf.train.AdamOptimizer(learning_rate = rate)\n",
    "training_operation = optimizer.minimize(loss_operation)"
   ]
  },
  {
   "cell_type": "markdown",
   "metadata": {
    "deletable": true,
    "editable": true
   },
   "source": [
    "## Model Evaluation\n",
    "Evaluate how well the loss and accuracy of the model for a given dataset.\n",
    "\n",
    "You do not need to modify this section."
   ]
  },
  {
   "cell_type": "code",
   "execution_count": 198,
   "metadata": {
    "collapsed": true,
    "deletable": true,
    "editable": true
   },
   "outputs": [],
   "source": [
    "correct_prediction = tf.equal(tf.argmax(logits, 1), tf.argmax(one_hot_y, 1))\n",
    "accuracy_operation = tf.reduce_mean(tf.cast(correct_prediction, tf.float32))\n",
    "saver = tf.train.Saver()\n",
    "\n",
    "def evaluate(X_data, y_data):\n",
    "    num_examples = len(X_data)\n",
    "    total_accuracy = 0\n",
    "    sess = tf.get_default_session()\n",
    "    for offset in range(0, num_examples, BATCH_SIZE):\n",
    "        batch_x, batch_y = X_data[offset:offset+BATCH_SIZE], y_data[offset:offset+BATCH_SIZE]\n",
    "        accuracy = sess.run(accuracy_operation, feed_dict={x: batch_x, y: batch_y})\n",
    "        total_accuracy += (accuracy * len(batch_x))\n",
    "    return total_accuracy / num_examples"
   ]
  },
  {
   "cell_type": "markdown",
   "metadata": {
    "deletable": true,
    "editable": true
   },
   "source": [
    "## Train the Model\n",
    "Run the training data through the training pipeline to train the model.\n",
    "\n",
    "Before each epoch, shuffle the training set.\n",
    "\n",
    "After each epoch, measure the loss and accuracy of the validation set.\n",
    "\n",
    "Save the model after training.\n",
    "\n",
    "You do not need to modify this section."
   ]
  },
  {
   "cell_type": "code",
   "execution_count": 199,
   "metadata": {
    "collapsed": false,
    "deletable": true,
    "editable": true
   },
   "outputs": [
    {
     "name": "stdout",
     "output_type": "stream",
     "text": [
      "Training...\n",
      "\n",
      "EPOCH 1 ...\n",
      "Validation Accuracy = 0.755\n",
      "\n",
      "EPOCH 2 ...\n",
      "Validation Accuracy = 0.811\n",
      "\n",
      "EPOCH 3 ...\n",
      "Validation Accuracy = 0.842\n",
      "\n",
      "EPOCH 4 ...\n",
      "Validation Accuracy = 0.857\n",
      "\n",
      "EPOCH 5 ...\n",
      "Validation Accuracy = 0.865\n",
      "\n",
      "EPOCH 6 ...\n",
      "Validation Accuracy = 0.881\n",
      "\n",
      "EPOCH 7 ...\n",
      "Validation Accuracy = 0.887\n",
      "\n",
      "EPOCH 8 ...\n",
      "Validation Accuracy = 0.897\n",
      "\n",
      "EPOCH 9 ...\n",
      "Validation Accuracy = 0.900\n",
      "\n",
      "EPOCH 10 ...\n",
      "Validation Accuracy = 0.899\n",
      "\n",
      "Model saved\n"
     ]
    }
   ],
   "source": [
    "with tf.Session() as sess:\n",
    "    sess.run(tf.global_variables_initializer())\n",
    "    num_examples = len(X_train)\n",
    "    \n",
    "    print(\"Training...\")\n",
    "    print()\n",
    "    for i in range(EPOCHS):\n",
    "        X_train, y_train = shuffle(X_train, y_train)\n",
    "        for offset in range(0, num_examples, BATCH_SIZE):\n",
    "            end = offset + BATCH_SIZE\n",
    "            batch_x, batch_y = X_train[offset:end], y_train[offset:end]\n",
    "            sess.run(training_operation, feed_dict={x: batch_x, y: batch_y})\n",
    "            \n",
    "        validation_accuracy = evaluate(X_validation, y_validation)\n",
    "        print(\"EPOCH {} ...\".format(i+1))\n",
    "        print(\"Validation Accuracy = {:.3f}\".format(validation_accuracy))\n",
    "        print()\n",
    "        \n",
    "    saver.save(sess, './lenet')\n",
    "    print(\"Model saved\")"
   ]
  },
  {
   "cell_type": "markdown",
   "metadata": {
    "deletable": true,
    "editable": true
   },
   "source": [
    "## Evaluate the Model\n",
    "Once you are completely satisfied with your model, evaluate the performance of the model on the test set.\n",
    "\n",
    "Be sure to only do this once!\n",
    "\n",
    "If you were to measure the performance of your trained model on the test set, then improve your model, and then measure the performance of your model on the test set again, that would invalidate your test results. You wouldn't get a true measure of how well your model would perform against real data.\n",
    "\n",
    "You do not need to modify this section."
   ]
  },
  {
   "cell_type": "code",
   "execution_count": 200,
   "metadata": {
    "collapsed": false,
    "deletable": true,
    "editable": true
   },
   "outputs": [
    {
     "name": "stdout",
     "output_type": "stream",
     "text": [
      "Test Accuracy = 0.893\n"
     ]
    }
   ],
   "source": [
    "with tf.Session() as sess:\n",
    "    saver.restore(sess, tf.train.latest_checkpoint('.'))\n",
    "\n",
    "    test_accuracy = evaluate(X_test, y_test)\n",
    "    print(\"Test Accuracy = {:.3f}\".format(test_accuracy))"
   ]
  }
 ],
 "metadata": {
  "anaconda-cloud": {},
  "kernelspec": {
   "display_name": "Python 3",
   "language": "python",
   "name": "python3"
  },
  "language_info": {
   "codemirror_mode": {
    "name": "ipython",
    "version": 3
   },
   "file_extension": ".py",
   "mimetype": "text/x-python",
   "name": "python",
   "nbconvert_exporter": "python",
   "pygments_lexer": "ipython3",
   "version": "3.5.2"
  },
  "widgets": {
   "state": {},
   "version": "1.1.2"
  }
 },
 "nbformat": 4,
 "nbformat_minor": 0
}
